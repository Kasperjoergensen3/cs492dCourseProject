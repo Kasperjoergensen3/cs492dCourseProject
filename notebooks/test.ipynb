{
 "cells": [
  {
   "cell_type": "code",
   "execution_count": 36,
   "metadata": {},
   "outputs": [],
   "source": [
    "config = Config(args.config, args)"
   ]
  },
  {
   "cell_type": "code",
   "execution_count": 37,
   "metadata": {},
   "outputs": [
    {
     "data": {
      "text/plain": [
       "DotMap(denoising_network=DotMap(module='UNet', params=DotMap(image_resolution=64, ch=128, ch_mult=[1, 2, 2, 2], attn=[1], num_res_blocks=4, dropout=0.1, use_cfg=False, cfg_dropout=0.1, num_classes=None)), num_timesteps=1000, beta_start=0.0001, beta_end=0.02, _ipython_display_=DotMap(), _repr_mimebundle_=DotMap())"
      ]
     },
     "execution_count": 37,
     "metadata": {},
     "output_type": "execute_result"
    }
   ],
   "source": [
    "print"
   ]
  },
  {
   "cell_type": "code",
   "execution_count": 35,
   "metadata": {},
   "outputs": [
    {
     "data": {
      "text/plain": [
       "{'denoising_network': {'module': 'UNet',\n",
       "  'params': {'image_resolution': 64,\n",
       "   'ch': 128,\n",
       "   'ch_mult': [1, 2, 2, 2],\n",
       "   'attn': [1],\n",
       "   'num_res_blocks': 4,\n",
       "   'dropout': 0.1,\n",
       "   'use_cfg': False,\n",
       "   'cfg_dropout': 0.1,\n",
       "   'num_classes': None}},\n",
       " 'num_timesteps': 1000,\n",
       " 'beta_start': '1e-4',\n",
       " 'beta_end': 0.02}"
      ]
     },
     "execution_count": 35,
     "metadata": {},
     "output_type": "execute_result"
    }
   ],
   "source": [
    "data[\"model\"][\"params\"]"
   ]
  }
 ],
 "metadata": {
  "kernelspec": {
   "display_name": "seqsketch",
   "language": "python",
   "name": "python3"
  },
  "language_info": {
   "codemirror_mode": {
    "name": "ipython",
    "version": 3
   },
   "file_extension": ".py",
   "mimetype": "text/x-python",
   "name": "python",
   "nbconvert_exporter": "python",
   "pygments_lexer": "ipython3",
   "version": "3.11.10"
  }
 },
 "nbformat": 4,
 "nbformat_minor": 2
}
