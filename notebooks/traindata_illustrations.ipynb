{
 "cells": [
  {
   "cell_type": "code",
   "execution_count": 1,
   "metadata": {},
   "outputs": [],
   "source": [
    "import numpy as np\n",
    "import matplotlib.pyplot as plt\n",
    "from pathlib import Path\n",
    "from PIL import Image"
   ]
  },
  {
   "cell_type": "code",
   "execution_count": 5,
   "metadata": {},
   "outputs": [
    {
     "data": {
      "image/png": "[encoded data removed]",
      "text/plain": [
       "<Figure size 2000x400 with 5 Axes>"
      ]
     },
     "metadata": {},
     "output_type": "display_data"
    }
   ],
   "source": [
    "class TrainDataIllustrator:\n",
    "    def __init__(self, image_dir):\n",
    "        self.image_dir = image_dir\n",
    "\n",
    "    def get_image_sequence(self, idx):\n",
    "        image_files = sorted(list(self.image_dir.glob(f\"{idx:06d}_*.png\")))\n",
    "        return image_files\n",
    "\n",
    "    def draw_image_sequence(self, idx, save_as=None):\n",
    "        image_files = self.get_image_sequence(idx)\n",
    "        n = len(image_files)\n",
    "        if n == 0:\n",
    "            print(f\"No images found for index {idx}\")\n",
    "            return\n",
    "        images = [Image.open(image_file) for image_file in image_files]\n",
    "        fig, axes = plt.subplots(1, n, figsize=(n * 4, 4))\n",
    "        for ax, image in zip(axes, images):\n",
    "            # convert to np image\n",
    "            image = np.array(image)\n",
    "            ax.imshow(image)\n",
    "            ax.axis(\"off\")\n",
    "        plt.tight_layout()\n",
    "        if save_as:\n",
    "            plt.savefig(save_as)\n",
    "        else:\n",
    "            plt.show()\n",
    "\n",
    "\n",
    "visualizer = TrainDataIllustrator(\n",
    "    Path(\"../data/quickdraw/processed/garden/images_train\")\n",
    ")\n",
    "visualizer.draw_image_sequence(19)"
   ]
  },
  {
   "cell_type": "code",
   "execution_count": 6,
   "metadata": {},
   "outputs": [],
   "source": [
    "%reload_ext autoreload\n",
    "\n",
    "%autoreload 2\n",
    "\n",
    "from seqsketch.data import QuickDrawDataModule\n",
    "\n",
    "datamodule = QuickDrawDataModule(\n",
    "    data_dir=\"../data/quickdraw/processed\",\n",
    "    category=\"cat\",\n",
    "    batch_size=1,\n",
    "    val_size=0.1,\n",
    ")\n",
    "\n",
    "datamodule.prepare_data()\n",
    "datamodule.setup()\n",
    "train_loader = datamodule.train_dataloader()\n",
    "iterator = iter(train_loader)"
   ]
  },
  {
   "cell_type": "code",
   "execution_count": 8,
   "metadata": {},
   "outputs": [
    {
     "name": "stdout",
     "output_type": "stream",
     "text": [
      "{'n_strokes': tensor([5]), 'step': tensor([2]), 'next_stroke': tensor([[[[1., 1., 1.,  ..., 1., 1., 1.],\n",
      "          [1., 1., 1.,  ..., 1., 1., 1.],\n",
      "          [1., 1., 1.,  ..., 1., 1., 1.],\n",
      "          ...,\n",
      "          [1., 1., 1.,  ..., 1., 1., 1.],\n",
      "          [1., 1., 1.,  ..., 1., 1., 1.],\n",
      "          [1., 1., 1.,  ..., 1., 1., 1.]]]]), 'current_strokes': tensor([[[[1., 1., 1.,  ..., 1., 1., 1.],\n",
      "          [1., 1., 1.,  ..., 1., 1., 1.],\n",
      "          [1., 1., 1.,  ..., 1., 1., 1.],\n",
      "          ...,\n",
      "          [1., 1., 1.,  ..., 1., 1., 1.],\n",
      "          [1., 1., 1.,  ..., 1., 1., 1.],\n",
      "          [1., 1., 1.,  ..., 1., 1., 1.]]]])}\n"
     ]
    },
    {
     "data": {
      "image/png": "[encoded data removed]",
      "text/plain": [
       "<Figure size 1200x400 with 3 Axes>"
      ]
     },
     "metadata": {},
     "output_type": "display_data"
    }
   ],
   "source": [
    "from seqsketch.models import SeqStrokeDiffusionModule\n",
    "import matplotlib.pyplot as plt\n",
    "\n",
    "model = SeqStrokeDiffusionModule()\n",
    "batch = next(iterator)\n",
    "print(batch)\n",
    "x, c = model.prepare_batch(batch)\n",
    "c_new = model.post_process(x, c)\n",
    "\n",
    "\n",
    "def illustrate_sample(x, c, c_new):\n",
    "    fig, axes = plt.subplots(1, 3, figsize=(12, 4))\n",
    "    axes[0].imshow(x[0].numpy().squeeze(), cmap=\"gray\", vmin=0, vmax=1)\n",
    "    axes[0].axis(\"off\")\n",
    "    axes[0].set_title(\"x\")\n",
    "    axes[1].imshow(c[0].numpy().squeeze(), cmap=\"gray\", vmin=0, vmax=1)\n",
    "    axes[1].axis(\"off\")\n",
    "    axes[1].set_title(\"c\")\n",
    "    axes[2].imshow(c_new[0].numpy().squeeze(), cmap=\"gray\", vmin=0, vmax=1)\n",
    "    axes[2].axis(\"off\")\n",
    "    axes[2].set_title(\"c_new\")\n",
    "\n",
    "\n",
    "illustrate_sample(x, c, c_new)"
   ]
  },
  {
   "cell_type": "code",
   "execution_count": 69,
   "metadata": {},
   "outputs": [
    {
     "data": {
      "text/plain": [
       "tensor(1.)"
      ]
     },
     "execution_count": 69,
     "metadata": {},
     "output_type": "execute_result"
    }
   ],
   "source": [
    "(x + c).min()"
   ]
  },
  {
   "cell_type": "code",
   "execution_count": 63,
   "metadata": {},
   "outputs": [
    {
     "data": {
      "text/plain": [
       "tensor(65536.)"
      ]
     },
     "execution_count": 63,
     "metadata": {},
     "output_type": "execute_result"
    }
   ],
   "source": [
    "c_new.sum()"
   ]
  },
  {
   "cell_type": "code",
   "execution_count": 33,
   "metadata": {},
   "outputs": [
    {
     "data": {
      "text/plain": [
       "{'n_strokes': tensor([ 9,  6, 12,  ...,  9,  7, 11]),\n",
       " 'step': tensor([ 4,  1, 11,  ...,  0,  6,  5]),\n",
       " 'next_stroke': tensor([[[[1., 1., 1.,  ..., 1., 1., 1.],\n",
       "           [1., 1., 1.,  ..., 1., 1., 1.],\n",
       "           [1., 1., 1.,  ..., 1., 1., 1.],\n",
       "           ...,\n",
       "           [1., 1., 1.,  ..., 1., 1., 1.],\n",
       "           [1., 1., 1.,  ..., 1., 1., 1.],\n",
       "           [1., 1., 1.,  ..., 1., 1., 1.]]],\n",
       " \n",
       " \n",
       "         [[[1., 1., 1.,  ..., 1., 1., 1.],\n",
       "           [1., 1., 1.,  ..., 1., 1., 1.],\n",
       "           [1., 1., 1.,  ..., 1., 1., 1.],\n",
       "           ...,\n",
       "           [1., 1., 1.,  ..., 1., 1., 1.],\n",
       "           [1., 1., 1.,  ..., 1., 1., 1.],\n",
       "           [1., 1., 1.,  ..., 1., 1., 1.]]],\n",
       " \n",
       " \n",
       "         [[[1., 1., 1.,  ..., 1., 1., 1.],\n",
       "           [1., 1., 1.,  ..., 1., 1., 1.],\n",
       "           [1., 1., 1.,  ..., 1., 1., 1.],\n",
       "           ...,\n",
       "           [1., 1., 1.,  ..., 1., 1., 1.],\n",
       "           [1., 1., 1.,  ..., 1., 1., 1.],\n",
       "           [1., 1., 1.,  ..., 1., 1., 1.]]],\n",
       " \n",
       " \n",
       "         ...,\n",
       " \n",
       " \n",
       "         [[[1., 1., 1.,  ..., 1., 1., 1.],\n",
       "           [1., 1., 1.,  ..., 1., 1., 1.],\n",
       "           [1., 1., 1.,  ..., 1., 1., 1.],\n",
       "           ...,\n",
       "           [1., 1., 1.,  ..., 1., 1., 1.],\n",
       "           [1., 1., 1.,  ..., 1., 1., 1.],\n",
       "           [1., 1., 1.,  ..., 1., 1., 1.]]],\n",
       " \n",
       " \n",
       "         [[[1., 1., 1.,  ..., 1., 1., 1.],\n",
       "           [1., 1., 1.,  ..., 1., 1., 1.],\n",
       "           [1., 1., 1.,  ..., 1., 1., 1.],\n",
       "           ...,\n",
       "           [1., 1., 1.,  ..., 1., 1., 1.],\n",
       "           [1., 1., 1.,  ..., 1., 1., 1.],\n",
       "           [1., 1., 1.,  ..., 1., 1., 1.]]],\n",
       " \n",
       " \n",
       "         [[[1., 1., 1.,  ..., 1., 1., 1.],\n",
       "           [1., 1., 1.,  ..., 1., 1., 1.],\n",
       "           [1., 1., 1.,  ..., 1., 1., 1.],\n",
       "           ...,\n",
       "           [1., 1., 1.,  ..., 1., 1., 1.],\n",
       "           [1., 1., 1.,  ..., 1., 1., 1.],\n",
       "           [1., 1., 1.,  ..., 1., 1., 1.]]]]),\n",
       " 'current_strokes': tensor([[[[1., 1., 1.,  ..., 1., 1., 1.],\n",
       "           [1., 1., 1.,  ..., 1., 1., 1.],\n",
       "           [1., 1., 1.,  ..., 1., 1., 1.],\n",
       "           ...,\n",
       "           [1., 1., 1.,  ..., 1., 1., 1.],\n",
       "           [1., 1., 1.,  ..., 1., 1., 1.],\n",
       "           [1., 1., 1.,  ..., 1., 1., 1.]]],\n",
       " \n",
       " \n",
       "         [[[1., 1., 1.,  ..., 1., 1., 1.],\n",
       "           [1., 1., 1.,  ..., 1., 1., 1.],\n",
       "           [1., 1., 1.,  ..., 1., 1., 1.],\n",
       "           ...,\n",
       "           [1., 1., 1.,  ..., 1., 1., 1.],\n",
       "           [1., 1., 1.,  ..., 1., 1., 1.],\n",
       "           [1., 1., 1.,  ..., 1., 1., 1.]]],\n",
       " \n",
       " \n",
       "         [[[1., 1., 1.,  ..., 1., 1., 1.],\n",
       "           [1., 1., 1.,  ..., 1., 1., 1.],\n",
       "           [1., 1., 1.,  ..., 1., 1., 1.],\n",
       "           ...,\n",
       "           [1., 1., 1.,  ..., 1., 1., 1.],\n",
       "           [1., 1., 1.,  ..., 1., 1., 1.],\n",
       "           [1., 1., 1.,  ..., 1., 1., 1.]]],\n",
       " \n",
       " \n",
       "         ...,\n",
       " \n",
       " \n",
       "         [[[1., 1., 1.,  ..., 1., 1., 1.],\n",
       "           [1., 1., 1.,  ..., 1., 1., 1.],\n",
       "           [1., 1., 1.,  ..., 1., 1., 1.],\n",
       "           ...,\n",
       "           [1., 1., 1.,  ..., 1., 1., 1.],\n",
       "           [1., 1., 1.,  ..., 1., 1., 1.],\n",
       "           [1., 1., 1.,  ..., 1., 1., 1.]]],\n",
       " \n",
       " \n",
       "         [[[1., 1., 0.,  ..., 1., 1., 1.],\n",
       "           [1., 1., 0.,  ..., 1., 1., 1.],\n",
       "           [1., 1., 0.,  ..., 1., 1., 1.],\n",
       "           ...,\n",
       "           [1., 1., 1.,  ..., 1., 1., 1.],\n",
       "           [1., 1., 1.,  ..., 1., 1., 1.],\n",
       "           [1., 1., 1.,  ..., 1., 1., 1.]]],\n",
       " \n",
       " \n",
       "         [[[1., 1., 1.,  ..., 1., 1., 1.],\n",
       "           [1., 1., 1.,  ..., 1., 1., 1.],\n",
       "           [1., 1., 1.,  ..., 1., 1., 1.],\n",
       "           ...,\n",
       "           [1., 1., 1.,  ..., 1., 1., 1.],\n",
       "           [1., 1., 1.,  ..., 1., 1., 1.],\n",
       "           [1., 1., 1.,  ..., 1., 1., 1.]]]])}"
      ]
     },
     "execution_count": 33,
     "metadata": {},
     "output_type": "execute_result"
    }
   ],
   "source": [
    "batch = next(iterator)\n",
    "batch"
   ]
  },
  {
   "cell_type": "code",
   "execution_count": 9,
   "metadata": {},
   "outputs": [
    {
     "data": {
      "text/plain": [
       "98256"
      ]
     },
     "execution_count": 9,
     "metadata": {},
     "output_type": "execute_result"
    }
   ],
   "source": [
    "len(train_loader.dataset)"
   ]
  },
  {
   "cell_type": "code",
   "execution_count": 24,
   "metadata": {},
   "outputs": [
    {
     "data": {
      "image/png": "[encoded data removed]",
      "text/plain": [
       "<Figure size 1000x500 with 10 Axes>"
      ]
     },
     "metadata": {},
     "output_type": "display_data"
    }
   ],
   "source": [
    "%reload_ext autoreload\n",
    "%autoreload 2\n",
    "from seqsketch.models import SeqStrokeDiffusionModule\n",
    "from seqsketch.data import QuickDrawDataModule\n",
    "from matplotlib import pyplot as plt\n",
    "\n",
    "datamodule = QuickDrawDataModule(\n",
    "    data_dir=\"../data/quickdraw/processed\",\n",
    "    category=\"cat\",\n",
    "    batch_size=1,\n",
    ")\n",
    "datamodule.prepare_data()\n",
    "datamodule.setup()\n",
    "train_loader = datamodule.train_dataloader()\n",
    "batch = next(iter(train_loader))\n",
    "\n",
    "# intialize model with default parameters\n",
    "model = SeqStrokeDiffusionModule()\n",
    "x = model.prepare_batch(batch)[0]\n",
    "\n",
    "x.shape\n",
    "model.add_noise(x,0).shape\n",
    "fig, ax = plt.subplots(1, 10, figsize=(10, 5))\n",
    "for i in range(10):\n",
    "    t = model.num_timesteps//50 * i\n",
    "    ax[i].imshow(model.add_noise(x, t)[0].squeeze(), cmap=\"gray\", vmin=-1, vmax=1)\n",
    "    ax[i].axis(\"off\")"
   ]
  },
  {
   "cell_type": "code",
   "execution_count": 20,
   "metadata": {},
   "outputs": [
    {
     "data": {
      "text/plain": [
       "tensor([9.0000e-01, 8.0991e-01, 7.2876e-01, 6.5566e-01, 5.8983e-01, 5.3055e-01,\n",
       "        4.7718e-01, 4.2913e-01, 3.8587e-01, 3.4694e-01, 3.1190e-01, 2.8036e-01,\n",
       "        2.5199e-01, 2.2646e-01, 2.0350e-01, 1.8284e-01, 1.6427e-01, 1.4756e-01,\n",
       "        1.3254e-01, 1.1903e-01, 1.0689e-01, 9.5977e-02, 8.6168e-02, 7.7353e-02,\n",
       "        6.9432e-02, 6.2315e-02, 5.5921e-02, 5.0178e-02, 4.5020e-02, 4.0387e-02,\n",
       "        3.6227e-02, 3.2492e-02, 2.9139e-02, 2.6128e-02, 2.3427e-02, 2.1002e-02,\n",
       "        1.8826e-02, 1.6874e-02, 1.5122e-02, 1.3551e-02, 1.2142e-02, 1.0878e-02,\n",
       "        9.7441e-03, 8.7277e-03, 7.8165e-03, 6.9997e-03, 6.2675e-03, 5.6112e-03,\n",
       "        5.0231e-03, 4.4962e-03, 4.0241e-03, 3.6011e-03, 3.2223e-03, 2.8829e-03,\n",
       "        2.5791e-03, 2.3070e-03, 2.0633e-03, 1.8452e-03, 1.6500e-03, 1.4752e-03,\n",
       "        1.3189e-03, 1.1789e-03, 1.0537e-03, 9.4170e-04, 8.4149e-04, 7.5187e-04,\n",
       "        6.7172e-04, 6.0004e-04, 5.3595e-04, 4.7865e-04, 4.2743e-04, 3.8165e-04,\n",
       "        3.4074e-04, 3.0417e-04, 2.7150e-04, 2.4231e-04, 2.1624e-04, 1.9295e-04,\n",
       "        1.7215e-04, 1.5357e-04, 1.3698e-04, 1.2218e-04, 1.0895e-04, 9.7154e-05,\n",
       "        8.6622e-05, 7.7223e-05, 6.8836e-05, 6.1353e-05, 5.4677e-05, 4.8722e-05,\n",
       "        4.3411e-05, 3.8674e-05, 3.4451e-05, 3.0685e-05, 2.7328e-05, 2.4335e-05,\n",
       "        2.1668e-05, 1.9291e-05, 1.7172e-05, 1.5285e-05, 1.3603e-05, 1.2106e-05,\n",
       "        1.0771e-05, 9.5832e-06, 8.5251e-06, 7.5830e-06, 6.7442e-06, 5.9976e-06,\n",
       "        5.3330e-06, 4.7415e-06, 4.2151e-06, 3.7468e-06, 3.3301e-06, 2.9594e-06,\n",
       "        2.6297e-06, 2.3365e-06, 2.0757e-06, 1.8438e-06, 1.6377e-06, 1.4544e-06,\n",
       "        1.2915e-06, 1.1467e-06, 1.0180e-06, 9.0367e-07, 8.0209e-07, 7.1185e-07,\n",
       "        6.3168e-07, 5.6048e-07, 4.9725e-07, 4.4111e-07, 3.9126e-07, 3.4700e-07,\n",
       "        3.0772e-07, 2.7285e-07, 2.4190e-07, 2.1444e-07, 1.9008e-07, 1.6847e-07,\n",
       "        1.4929e-07, 1.3229e-07, 1.1720e-07, 1.0383e-07, 9.1970e-08, 8.1456e-08,\n",
       "        7.2136e-08, 6.3876e-08, 5.6555e-08, 5.0067e-08, 4.4319e-08, 3.9226e-08,\n",
       "        3.4714e-08, 3.0718e-08, 2.7179e-08, 2.4045e-08, 2.1270e-08, 1.8813e-08,\n",
       "        1.6638e-08, 1.4712e-08, 1.3008e-08, 1.1501e-08, 1.0166e-08, 8.9858e-09,\n",
       "        7.9415e-09, 7.0178e-09, 6.2008e-09, 5.4783e-09, 4.8395e-09, 4.2746e-09,\n",
       "        3.7753e-09, 3.3339e-09, 2.9437e-09, 2.5990e-09, 2.2943e-09, 2.0252e-09,\n",
       "        1.7874e-09, 1.5773e-09, 1.3918e-09, 1.2280e-09, 1.0833e-09, 9.5555e-10,\n",
       "        8.4278e-10, 7.4323e-10, 6.5537e-10, 5.7783e-10, 5.0940e-10, 4.4903e-10,\n",
       "        3.9577e-10, 3.4878e-10, 3.0734e-10, 2.7079e-10, 2.3856e-10, 2.1014e-10,\n",
       "        1.8509e-10, 1.6301e-10, 1.4354e-10, 1.2638e-10, 1.1127e-10, 9.7945e-11,\n",
       "        8.6210e-11, 7.5871e-11, 6.6765e-11, 5.8745e-11, 5.1683e-11, 4.5464e-11,\n",
       "        3.9990e-11, 3.5170e-11, 3.0928e-11, 2.7194e-11, 2.3909e-11, 2.1018e-11,\n",
       "        1.8474e-11, 1.6236e-11, 1.4268e-11, 1.2537e-11, 1.1015e-11, 9.6763e-12,\n",
       "        8.4995e-12, 7.4649e-12, 6.5555e-12, 5.7563e-12, 5.0539e-12, 4.4367e-12,\n",
       "        3.8944e-12, 3.4180e-12, 2.9996e-12, 2.6321e-12, 2.3093e-12, 2.0259e-12,\n",
       "        1.7771e-12, 1.5586e-12, 1.3669e-12, 1.1986e-12, 1.0509e-12, 9.2130e-13,\n",
       "        8.0759e-13, 7.0784e-13, 6.2033e-13, 5.4358e-13, 4.7627e-13, 4.1725e-13,\n",
       "        3.6550e-13, 3.2013e-13, 2.8037e-13, 2.4551e-13, 2.1496e-13, 1.8819e-13,\n",
       "        1.6474e-13, 1.4419e-13, 1.2619e-13, 1.1043e-13, 9.6623e-14, 8.4533e-14,\n",
       "        7.3947e-14, 6.4680e-14, 5.6567e-14, 4.9467e-14, 4.3253e-14, 3.7815e-14,\n",
       "        3.3057e-14, 2.8894e-14, 2.5252e-14, 2.2067e-14, 1.9282e-14, 1.6846e-14,\n",
       "        1.4716e-14, 1.2854e-14, 1.1227e-14, 9.8039e-15, 8.5605e-15, 7.4740e-15,\n",
       "        6.5246e-15, 5.6951e-15, 4.9705e-15, 4.3377e-15, 3.7849e-15, 3.3022e-15,\n",
       "        2.8808e-15, 2.5128e-15, 2.1916e-15, 1.9112e-15, 1.6666e-15, 1.4530e-15,\n",
       "        1.2667e-15, 1.1042e-15, 9.6235e-16, 8.3866e-16, 7.3078e-16, 6.3671e-16,\n",
       "        5.5468e-16, 4.8317e-16, 4.2083e-16, 3.6648e-16, 3.1912e-16, 2.7785e-16,\n",
       "        2.4189e-16, 2.1056e-16, 1.8326e-16, 1.5949e-16, 1.3878e-16, 1.2075e-16,\n",
       "        1.0505e-16, 9.1379e-17, 7.9479e-17, 6.9120e-17, 6.0105e-17, 5.2259e-17,\n",
       "        4.5433e-17, 3.9493e-17, 3.4326e-17, 2.9832e-17, 2.5923e-17, 2.2524e-17,\n",
       "        1.9568e-17, 1.6998e-17, 1.4764e-17, 1.2822e-17, 1.1134e-17, 9.6675e-18,\n",
       "        8.3930e-18, 7.2857e-18, 6.3238e-18, 5.4882e-18, 4.7625e-18, 4.1322e-18,\n",
       "        3.5850e-18, 3.1099e-18, 2.6974e-18, 2.3394e-18, 2.0286e-18, 1.7590e-18,\n",
       "        1.5250e-18, 1.3219e-18, 1.1458e-18, 9.9303e-19, 8.6053e-19, 7.4562e-19,\n",
       "        6.4598e-19, 5.5959e-19, 4.8470e-19, 4.1978e-19, 3.6352e-19, 3.1476e-19,\n",
       "        2.7250e-19, 2.3590e-19, 2.0419e-19, 1.7672e-19, 1.5292e-19, 1.3232e-19,\n",
       "        1.1448e-19, 9.9031e-20, 8.5658e-20, 7.4083e-20, 6.4064e-20, 5.5394e-20,\n",
       "        4.7892e-20, 4.1401e-20, 3.5785e-20, 3.0928e-20, 2.6727e-20, 2.3094e-20,\n",
       "        1.9952e-20, 1.7236e-20, 1.4888e-20, 1.2858e-20, 1.1104e-20, 9.5876e-21,\n",
       "        8.2776e-21, 7.1458e-21, 6.1680e-21, 5.3233e-21, 4.5938e-21, 3.9639e-21,\n",
       "        3.4199e-21, 2.9502e-21, 2.5447e-21, 2.1947e-21, 1.8927e-21, 1.6320e-21,\n",
       "        1.4070e-21, 1.2129e-21, 1.0455e-21, 9.0108e-22, 7.7652e-22, 6.6910e-22,\n",
       "        5.7647e-22, 4.9660e-22, 4.2776e-22, 3.6841e-22, 3.1726e-22, 2.7318e-22,\n",
       "        2.3520e-22, 2.0247e-22, 1.7428e-22, 1.5000e-22, 1.2908e-22, 1.1107e-22,\n",
       "        9.5559e-23, 8.2206e-23, 7.0710e-23, 6.0815e-23, 5.2298e-23, 4.4969e-23,\n",
       "        3.8663e-23, 3.3237e-23, 2.8569e-23, 2.4554e-23, 2.1101e-23, 1.8131e-23,\n",
       "        1.5577e-23, 1.3382e-23, 1.1494e-23, 9.8721e-24, 8.4778e-24, 7.2795e-24,\n",
       "        6.2499e-24, 5.3653e-24, 4.6053e-24, 3.9526e-24, 3.3919e-24, 2.9105e-24,\n",
       "        2.4971e-24, 2.1421e-24, 1.8374e-24, 1.5759e-24, 1.3514e-24, 1.1588e-24,\n",
       "        9.9348e-25, 8.5167e-25, 7.3002e-25, 6.2566e-25, 5.3617e-25, 4.5942e-25,\n",
       "        3.9361e-25, 3.3719e-25, 2.8882e-25, 2.4736e-25, 2.1183e-25, 1.8138e-25,\n",
       "        1.5529e-25, 1.3294e-25, 1.1379e-25, 9.7387e-26, 8.3339e-26, 7.1310e-26,\n",
       "        6.1009e-26, 5.2191e-26, 4.4642e-26, 3.8180e-26, 3.2650e-26, 2.7917e-26,\n",
       "        2.3868e-26, 2.0404e-26, 1.7440e-26, 1.4905e-26, 1.2737e-26, 1.0884e-26,\n",
       "        9.2985e-27, 7.9432e-27, 6.7848e-27, 5.7945e-27, 4.9483e-27, 4.2251e-27,\n",
       "        3.6072e-27, 3.0793e-27, 2.6283e-27, 2.2432e-27, 1.9142e-27, 1.6333e-27,\n",
       "        1.3935e-27, 1.1887e-27, 1.0139e-27, 8.6471e-28, 7.3739e-28, 6.2873e-28,\n",
       "        5.3603e-28, 4.5694e-28, 3.8947e-28, 3.3193e-28, 2.8285e-28, 2.4101e-28,\n",
       "        2.0533e-28, 1.7491e-28, 1.4898e-28, 1.2688e-28, 1.0804e-28, 9.1993e-29,\n",
       "        7.8318e-29, 6.6668e-29, 5.6745e-29, 4.8293e-29, 4.1095e-29, 3.4966e-29,\n",
       "        2.9747e-29, 2.5304e-29, 2.1523e-29, 1.8304e-29, 1.5565e-29, 1.3234e-29,\n",
       "        1.1251e-29, 9.5637e-30, 8.1287e-30, 6.9082e-30, 5.8702e-30, 4.9876e-30,\n",
       "        4.2372e-30, 3.5993e-30, 3.0571e-30, 2.5962e-30, 2.2046e-30, 1.8718e-30,\n",
       "        1.5891e-30, 1.3489e-30, 1.1449e-30, 9.7158e-31, 8.2443e-31, 6.9949e-31,\n",
       "        5.9341e-31, 5.0336e-31, 4.2692e-31, 3.6205e-31, 3.0700e-31, 2.6029e-31,\n",
       "        2.2066e-31, 1.8704e-31, 1.5853e-31, 1.3434e-31, 1.1384e-31, 9.6447e-32,\n",
       "        8.1704e-32, 6.9208e-32, 5.8615e-32, 4.9638e-32, 4.2031e-32, 3.5585e-32,\n",
       "        3.0125e-32, 2.5499e-32, 2.1581e-32, 1.8263e-32, 1.5453e-32, 1.3074e-32,\n",
       "        1.1060e-32, 9.3549e-33, 7.9119e-33, 6.6906e-33, 5.6572e-33, 4.7829e-33,\n",
       "        4.0432e-33, 3.4175e-33, 2.8883e-33, 2.4407e-33, 2.0623e-33, 1.7423e-33,\n",
       "        1.4718e-33, 1.2431e-33, 1.0499e-33, 8.8658e-34, 7.4858e-34, 6.3198e-34,\n",
       "        5.3348e-34, 4.5028e-34, 3.8001e-34, 3.2067e-34, 2.7057e-34, 2.2826e-34,\n",
       "        1.9255e-34, 1.6240e-34, 1.3696e-34, 1.1549e-34, 9.7376e-35, 8.2092e-35,\n",
       "        6.9199e-35, 5.8324e-35, 4.9152e-35, 4.1418e-35, 3.4896e-35, 2.9398e-35,\n",
       "        2.4763e-35, 2.0857e-35, 1.7564e-35, 1.4790e-35, 1.2452e-35, 1.0483e-35,\n",
       "        8.8238e-36, 7.4265e-36, 6.2497e-36, 5.2587e-36, 4.4244e-36, 3.7220e-36,\n",
       "        3.1307e-36, 2.6331e-36, 2.2142e-36, 1.8618e-36, 1.5653e-36, 1.3159e-36,\n",
       "        1.1060e-36, 9.2956e-37, 7.8115e-37, 6.5635e-37, 5.5143e-37, 4.6322e-37,\n",
       "        3.8908e-37, 3.2676e-37, 2.7440e-37, 2.3039e-37, 1.9342e-37, 1.6237e-37,\n",
       "        1.3628e-37, 1.1437e-37, 9.5975e-38, 8.0527e-38, 6.7557e-38, 5.6669e-38,\n",
       "        4.7531e-38, 3.9861e-38, 3.3425e-38, 2.8025e-38, 2.3494e-38, 1.9694e-38,\n",
       "        1.6506e-38, 1.3833e-38, 1.1591e-38, 9.7114e-39, 8.1356e-39, 6.8147e-39,\n",
       "        5.7076e-39, 4.7797e-39, 4.0022e-39, 3.3508e-39, 2.8051e-39, 2.3480e-39,\n",
       "        1.9651e-39, 1.6445e-39, 1.3760e-39, 1.1512e-39, 9.6303e-40, 8.0551e-40,\n",
       "        6.7368e-40, 5.6335e-40, 4.7104e-40, 3.9381e-40, 3.2920e-40, 2.7515e-40,\n",
       "        2.2996e-40, 1.9216e-40, 1.6056e-40, 1.3414e-40, 1.1205e-40, 9.3586e-41,\n",
       "        7.8157e-41, 6.5264e-41, 5.4491e-41, 4.5490e-41, 3.7972e-41, 3.1693e-41,\n",
       "        2.6450e-41, 2.2070e-41, 1.8414e-41, 1.5361e-41, 1.2813e-41, 1.0686e-41,\n",
       "        8.9123e-42, 7.4311e-42, 6.1951e-42, 5.1652e-42, 4.3048e-42, 3.5887e-42,\n",
       "        2.9904e-42, 2.4915e-42, 2.0753e-42, 1.7292e-42, 1.4405e-42, 1.1995e-42,\n",
       "        9.9913e-43, 8.3097e-43, 6.9224e-43, 5.7593e-43, 4.7924e-43, 3.9937e-43,\n",
       "        3.3211e-43, 2.7606e-43, 2.2981e-43, 1.9198e-43, 1.5975e-43, 1.3172e-43,\n",
       "        1.1070e-43, 9.1084e-44, 7.5670e-44, 6.3058e-44, 5.1848e-44, 4.3440e-44,\n",
       "        3.6434e-44, 3.0829e-44, 2.5223e-44, 2.1019e-44, 1.6816e-44, 1.4013e-44,\n",
       "        1.2612e-44, 9.8091e-45, 8.4078e-45, 7.0065e-45, 5.6052e-45, 4.2039e-45,\n",
       "        4.2039e-45, 2.8026e-45, 2.8026e-45, 2.8026e-45, 1.4013e-45, 1.4013e-45,\n",
       "        1.4013e-45, 1.4013e-45, 1.4013e-45, 1.4013e-45, 0.0000e+00, 0.0000e+00,\n",
       "        0.0000e+00, 0.0000e+00, 0.0000e+00, 0.0000e+00, 0.0000e+00, 0.0000e+00,\n",
       "        0.0000e+00, 0.0000e+00, 0.0000e+00, 0.0000e+00, 0.0000e+00, 0.0000e+00,\n",
       "        0.0000e+00, 0.0000e+00, 0.0000e+00, 0.0000e+00, 0.0000e+00, 0.0000e+00,\n",
       "        0.0000e+00, 0.0000e+00, 0.0000e+00, 0.0000e+00, 0.0000e+00, 0.0000e+00,\n",
       "        0.0000e+00, 0.0000e+00, 0.0000e+00, 0.0000e+00, 0.0000e+00, 0.0000e+00,\n",
       "        0.0000e+00, 0.0000e+00, 0.0000e+00, 0.0000e+00, 0.0000e+00, 0.0000e+00,\n",
       "        0.0000e+00, 0.0000e+00, 0.0000e+00, 0.0000e+00, 0.0000e+00, 0.0000e+00,\n",
       "        0.0000e+00, 0.0000e+00, 0.0000e+00, 0.0000e+00, 0.0000e+00, 0.0000e+00,\n",
       "        0.0000e+00, 0.0000e+00, 0.0000e+00, 0.0000e+00, 0.0000e+00, 0.0000e+00,\n",
       "        0.0000e+00, 0.0000e+00, 0.0000e+00, 0.0000e+00, 0.0000e+00, 0.0000e+00,\n",
       "        0.0000e+00, 0.0000e+00, 0.0000e+00, 0.0000e+00, 0.0000e+00, 0.0000e+00,\n",
       "        0.0000e+00, 0.0000e+00, 0.0000e+00, 0.0000e+00, 0.0000e+00, 0.0000e+00,\n",
       "        0.0000e+00, 0.0000e+00, 0.0000e+00, 0.0000e+00, 0.0000e+00, 0.0000e+00,\n",
       "        0.0000e+00, 0.0000e+00, 0.0000e+00, 0.0000e+00, 0.0000e+00, 0.0000e+00,\n",
       "        0.0000e+00, 0.0000e+00, 0.0000e+00, 0.0000e+00, 0.0000e+00, 0.0000e+00,\n",
       "        0.0000e+00, 0.0000e+00, 0.0000e+00, 0.0000e+00, 0.0000e+00, 0.0000e+00,\n",
       "        0.0000e+00, 0.0000e+00, 0.0000e+00, 0.0000e+00, 0.0000e+00, 0.0000e+00,\n",
       "        0.0000e+00, 0.0000e+00, 0.0000e+00, 0.0000e+00, 0.0000e+00, 0.0000e+00,\n",
       "        0.0000e+00, 0.0000e+00, 0.0000e+00, 0.0000e+00, 0.0000e+00, 0.0000e+00,\n",
       "        0.0000e+00, 0.0000e+00, 0.0000e+00, 0.0000e+00, 0.0000e+00, 0.0000e+00,\n",
       "        0.0000e+00, 0.0000e+00, 0.0000e+00, 0.0000e+00, 0.0000e+00, 0.0000e+00,\n",
       "        0.0000e+00, 0.0000e+00, 0.0000e+00, 0.0000e+00, 0.0000e+00, 0.0000e+00,\n",
       "        0.0000e+00, 0.0000e+00, 0.0000e+00, 0.0000e+00, 0.0000e+00, 0.0000e+00,\n",
       "        0.0000e+00, 0.0000e+00, 0.0000e+00, 0.0000e+00, 0.0000e+00, 0.0000e+00,\n",
       "        0.0000e+00, 0.0000e+00, 0.0000e+00, 0.0000e+00, 0.0000e+00, 0.0000e+00,\n",
       "        0.0000e+00, 0.0000e+00, 0.0000e+00, 0.0000e+00, 0.0000e+00, 0.0000e+00,\n",
       "        0.0000e+00, 0.0000e+00, 0.0000e+00, 0.0000e+00, 0.0000e+00, 0.0000e+00,\n",
       "        0.0000e+00, 0.0000e+00, 0.0000e+00, 0.0000e+00, 0.0000e+00, 0.0000e+00,\n",
       "        0.0000e+00, 0.0000e+00, 0.0000e+00, 0.0000e+00, 0.0000e+00, 0.0000e+00,\n",
       "        0.0000e+00, 0.0000e+00, 0.0000e+00, 0.0000e+00, 0.0000e+00, 0.0000e+00,\n",
       "        0.0000e+00, 0.0000e+00, 0.0000e+00, 0.0000e+00, 0.0000e+00, 0.0000e+00,\n",
       "        0.0000e+00, 0.0000e+00, 0.0000e+00, 0.0000e+00, 0.0000e+00, 0.0000e+00,\n",
       "        0.0000e+00, 0.0000e+00, 0.0000e+00, 0.0000e+00, 0.0000e+00, 0.0000e+00,\n",
       "        0.0000e+00, 0.0000e+00, 0.0000e+00, 0.0000e+00, 0.0000e+00, 0.0000e+00,\n",
       "        0.0000e+00, 0.0000e+00, 0.0000e+00, 0.0000e+00, 0.0000e+00, 0.0000e+00,\n",
       "        0.0000e+00, 0.0000e+00, 0.0000e+00, 0.0000e+00, 0.0000e+00, 0.0000e+00,\n",
       "        0.0000e+00, 0.0000e+00, 0.0000e+00, 0.0000e+00, 0.0000e+00, 0.0000e+00,\n",
       "        0.0000e+00, 0.0000e+00, 0.0000e+00, 0.0000e+00, 0.0000e+00, 0.0000e+00,\n",
       "        0.0000e+00, 0.0000e+00, 0.0000e+00, 0.0000e+00, 0.0000e+00, 0.0000e+00,\n",
       "        0.0000e+00, 0.0000e+00, 0.0000e+00, 0.0000e+00, 0.0000e+00, 0.0000e+00,\n",
       "        0.0000e+00, 0.0000e+00, 0.0000e+00, 0.0000e+00, 0.0000e+00, 0.0000e+00,\n",
       "        0.0000e+00, 0.0000e+00, 0.0000e+00, 0.0000e+00, 0.0000e+00, 0.0000e+00,\n",
       "        0.0000e+00, 0.0000e+00, 0.0000e+00, 0.0000e+00, 0.0000e+00, 0.0000e+00,\n",
       "        0.0000e+00, 0.0000e+00, 0.0000e+00, 0.0000e+00, 0.0000e+00, 0.0000e+00,\n",
       "        0.0000e+00, 0.0000e+00, 0.0000e+00, 0.0000e+00, 0.0000e+00, 0.0000e+00,\n",
       "        0.0000e+00, 0.0000e+00, 0.0000e+00, 0.0000e+00, 0.0000e+00, 0.0000e+00,\n",
       "        0.0000e+00, 0.0000e+00, 0.0000e+00, 0.0000e+00, 0.0000e+00, 0.0000e+00,\n",
       "        0.0000e+00, 0.0000e+00, 0.0000e+00, 0.0000e+00])"
      ]
     },
     "execution_count": 20,
     "metadata": {},
     "output_type": "execute_result"
    }
   ],
   "source": [
    "model.alpha_cumprod"
   ]
  },
  {
   "cell_type": "code",
   "execution_count": 1,
   "metadata": {},
   "outputs": [
    {
     "ename": "FileNotFoundError",
     "evalue": "[Errno 2] No such file or directory: '../data/quickdraw/cat/train_test_indices.json'",
     "output_type": "error",
     "traceback": [
      "\u001b[0;31m---------------------------------------------------------------------------\u001b[0m",
      "\u001b[0;31mFileNotFoundError\u001b[0m                         Traceback (most recent call last)",
      "Cell \u001b[0;32mIn[1], line 4\u001b[0m\n\u001b[1;32m      1\u001b[0m \u001b[38;5;28;01mimport\u001b[39;00m \u001b[38;5;21;01mjson\u001b[39;00m\n\u001b[1;32m      3\u001b[0m path \u001b[38;5;241m=\u001b[39m \u001b[38;5;124m\"\u001b[39m\u001b[38;5;124m../data/quickdraw/cat/train_test_indices.json\u001b[39m\u001b[38;5;124m\"\u001b[39m\n\u001b[0;32m----> 4\u001b[0m \u001b[38;5;28;01mwith\u001b[39;00m \u001b[38;5;28;43mopen\u001b[39;49m\u001b[43m(\u001b[49m\u001b[43mpath\u001b[49m\u001b[43m,\u001b[49m\u001b[43m \u001b[49m\u001b[38;5;124;43m\"\u001b[39;49m\u001b[38;5;124;43mr\u001b[39;49m\u001b[38;5;124;43m\"\u001b[39;49m\u001b[43m)\u001b[49m \u001b[38;5;28;01mas\u001b[39;00m f:\n\u001b[1;32m      5\u001b[0m     indices \u001b[38;5;241m=\u001b[39m json\u001b[38;5;241m.\u001b[39mload(f)\n\u001b[1;32m      7\u001b[0m train_indices \u001b[38;5;241m=\u001b[39m indices[\u001b[38;5;124m\"\u001b[39m\u001b[38;5;124mtrain\u001b[39m\u001b[38;5;124m\"\u001b[39m]\n",
      "File \u001b[0;32m~/opt/anaconda3/envs/seqsketch/lib/python3.11/site-packages/IPython/core/interactiveshell.py:284\u001b[0m, in \u001b[0;36m_modified_open\u001b[0;34m(file, *args, **kwargs)\u001b[0m\n\u001b[1;32m    277\u001b[0m \u001b[38;5;28;01mif\u001b[39;00m file \u001b[38;5;129;01min\u001b[39;00m {\u001b[38;5;241m0\u001b[39m, \u001b[38;5;241m1\u001b[39m, \u001b[38;5;241m2\u001b[39m}:\n\u001b[1;32m    278\u001b[0m     \u001b[38;5;28;01mraise\u001b[39;00m \u001b[38;5;167;01mValueError\u001b[39;00m(\n\u001b[1;32m    279\u001b[0m         \u001b[38;5;124mf\u001b[39m\u001b[38;5;124m\"\u001b[39m\u001b[38;5;124mIPython won\u001b[39m\u001b[38;5;124m'\u001b[39m\u001b[38;5;124mt let you open fd=\u001b[39m\u001b[38;5;132;01m{\u001b[39;00mfile\u001b[38;5;132;01m}\u001b[39;00m\u001b[38;5;124m by default \u001b[39m\u001b[38;5;124m\"\u001b[39m\n\u001b[1;32m    280\u001b[0m         \u001b[38;5;124m\"\u001b[39m\u001b[38;5;124mas it is likely to crash IPython. If you know what you are doing, \u001b[39m\u001b[38;5;124m\"\u001b[39m\n\u001b[1;32m    281\u001b[0m         \u001b[38;5;124m\"\u001b[39m\u001b[38;5;124myou can use builtins\u001b[39m\u001b[38;5;124m'\u001b[39m\u001b[38;5;124m open.\u001b[39m\u001b[38;5;124m\"\u001b[39m\n\u001b[1;32m    282\u001b[0m     )\n\u001b[0;32m--> 284\u001b[0m \u001b[38;5;28;01mreturn\u001b[39;00m \u001b[43mio_open\u001b[49m\u001b[43m(\u001b[49m\u001b[43mfile\u001b[49m\u001b[43m,\u001b[49m\u001b[43m \u001b[49m\u001b[38;5;241;43m*\u001b[39;49m\u001b[43margs\u001b[49m\u001b[43m,\u001b[49m\u001b[43m \u001b[49m\u001b[38;5;241;43m*\u001b[39;49m\u001b[38;5;241;43m*\u001b[39;49m\u001b[43mkwargs\u001b[49m\u001b[43m)\u001b[49m\n",
      "\u001b[0;31mFileNotFoundError\u001b[0m: [Errno 2] No such file or directory: '../data/quickdraw/cat/train_test_indices.json'"
     ]
    }
   ],
   "source": [
    "import json\n",
    "\n",
    "path = \"../data/quickdraw/cat/train_test_indices.json\"\n",
    "with open(path, \"r\") as f:\n",
    "    indices = json.load(f)\n",
    "\n",
    "train_indices = indices[\"train\"]\n",
    "test_indices = indices[\"test\"]\n",
    "print(\n",
    "    \"number of training examples:\",\n",
    "    len(train_indices),\n",
    "    \"number of test examples:\",\n",
    "    len(test_indices),\n",
    ")\n",
    "print(\n",
    "    \"unique training examples:\",\n",
    "    len(set(train_indices)),\n",
    "    \"unique test examples:\",\n",
    "    len(set(test_indices)),\n",
    ")\n",
    "print(\"intersection:\", len(set(train_indices).intersection(set(test_indices))))"
   ]
  },
  {
   "cell_type": "code",
   "execution_count": 30,
   "metadata": {},
   "outputs": [
    {
     "data": {
      "text/plain": [
       "[0]"
      ]
     },
     "execution_count": 30,
     "metadata": {},
     "output_type": "execute_result"
    }
   ],
   "source": [
    "[0, 1, 2, 3][:1]"
   ]
  }
 ],
 "metadata": {
  "kernelspec": {
   "display_name": "seqsketch",
   "language": "python",
   "name": "python3"
  },
  "language_info": {
   "codemirror_mode": {
    "name": "ipython",
    "version": 3
   },
   "file_extension": ".py",
   "mimetype": "text/x-python",
   "name": "python",
   "nbconvert_exporter": "python",
   "pygments_lexer": "ipython3",
   "version": "3.11.10"
  }
 },
 "nbformat": 4,
 "nbformat_minor": 2
}
