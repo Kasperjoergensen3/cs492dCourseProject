{
 "cells": [
  {
   "cell_type": "markdown",
   "metadata": {},
   "source": [
    "### Sample code for visualizing the stroke data\n"
   ]
  },
  {
   "cell_type": "code",
   "execution_count": 1,
   "metadata": {},
   "outputs": [],
   "source": [
    "import numpy as np\n",
    "import matplotlib.pyplot as plt\n",
    "from pathlib import Path"
   ]
  },
  {
   "cell_type": "code",
   "execution_count": null,
   "metadata": {},
   "outputs": [],
   "source": [
    "class TrainDataIllustrator:\n",
    "    def __init__(self, image_dir):\n",
    "        self.image_dir = image_dir\n",
    "\n",
    "    def get_image_sequence(self, idx):\n",
    "        image_files = sorted(list(image_dir.glob(f\"{}\"\n",
    "        return [plt.imread(str(image_file)) for image_file in image_files]"
   ]
  }
 ],
 "metadata": {
  "kernelspec": {
   "display_name": "seqsketch",
   "language": "python",
   "name": "python3"
  },
  "language_info": {
   "codemirror_mode": {
    "name": "ipython",
    "version": 3
   },
   "file_extension": ".py",
   "mimetype": "text/x-python",
   "name": "python",
   "nbconvert_exporter": "python",
   "pygments_lexer": "ipython3",
   "version": "3.11.10"
  }
 },
 "nbformat": 4,
 "nbformat_minor": 2
}
